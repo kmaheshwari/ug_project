{
 "cells": [
  {
   "cell_type": "code",
   "execution_count": 3,
   "metadata": {
    "collapsed": false
   },
   "outputs": [
    {
     "data": {
      "text/plain": [
       "[(u'Python', u'NNP'),\n",
       " (u'is', u'VBZ'),\n",
       " (u'a', u'DT'),\n",
       " (u'high-level', u'JJ'),\n",
       " (u'general-purpose', u'JJ'),\n",
       " (u'programming', u'NN'),\n",
       " (u'language', u'NN')]"
      ]
     },
     "execution_count": 3,
     "metadata": {},
     "output_type": "execute_result"
    }
   ],
   "source": [
    "from textblob import TextBlob\n",
    "wiki = TextBlob(\"Python is a high-level, general-purpose programming language.\")\n",
    "wiki.tags\n"
   ]
  },
  {
   "cell_type": "code",
   "execution_count": 4,
   "metadata": {
    "collapsed": false
   },
   "outputs": [
    {
     "data": {
      "text/plain": [
       "[(u'MY', u'DT'), (u'NAME', u'NN'), (u'IS', u'VBZ'), (u'ADITI', u'NN')]"
      ]
     },
     "execution_count": 4,
     "metadata": {},
     "output_type": "execute_result"
    }
   ],
   "source": [
    "wiki = TextBlob(\"MY NAME IS ADITI\")\n",
    "wiki.tags"
   ]
  },
  {
   "cell_type": "code",
   "execution_count": 5,
   "metadata": {
    "collapsed": false
   },
   "outputs": [
    {
     "ename": "AttributeError",
     "evalue": "'list' object has no attribute 'tokenize'",
     "output_type": "error",
     "traceback": [
      "\u001b[1;31m---------------------------------------------------------------------------\u001b[0m",
      "\u001b[1;31mAttributeError\u001b[0m                            Traceback (most recent call last)",
      "\u001b[1;32m<ipython-input-5-1038a53af68a>\u001b[0m in \u001b[0;36m<module>\u001b[1;34m()\u001b[0m\n\u001b[0;32m      1\u001b[0m \u001b[0msent\u001b[0m\u001b[1;33m=\u001b[0m\u001b[1;34m\"MY NAME IS ADITI\"\u001b[0m\u001b[1;33m\u001b[0m\u001b[0m\n\u001b[0;32m      2\u001b[0m \u001b[0msent\u001b[0m\u001b[1;33m=\u001b[0m\u001b[0mwiki\u001b[0m\u001b[1;33m.\u001b[0m\u001b[0mtags\u001b[0m\u001b[1;33m\u001b[0m\u001b[0m\n\u001b[1;32m----> 3\u001b[1;33m \u001b[1;32mprint\u001b[0m \u001b[0msent\u001b[0m\u001b[1;33m.\u001b[0m\u001b[0mtokenize\u001b[0m\u001b[1;33m(\u001b[0m\u001b[1;33m)\u001b[0m\u001b[1;33m\u001b[0m\u001b[0m\n\u001b[0m",
      "\u001b[1;31mAttributeError\u001b[0m: 'list' object has no attribute 'tokenize'"
     ]
    }
   ],
   "source": [
    "sent=\"MY NAME IS ADITI\"\n",
    "sent=wiki.tags\n",
    "print sent.tokenize()\n"
   ]
  },
  {
   "cell_type": "code",
   "execution_count": 6,
   "metadata": {
    "collapsed": false
   },
   "outputs": [
    {
     "name": "stdout",
     "output_type": "stream",
     "text": [
      "[u'DT', u'NN', u'VBZ', u'NN']\n"
     ]
    }
   ],
   "source": [
    " print [x[1] for x in sent]"
   ]
  },
  {
   "cell_type": "code",
   "execution_count": 7,
   "metadata": {
    "collapsed": false
   },
   "outputs": [
    {
     "name": "stdout",
     "output_type": "stream",
     "text": [
      "[[(u'M', u'D'), (u'Y', u'T')], [(u'N', u'N'), (u'A', u'N')], [(u'I', u'V'), (u'S', u'B')], [(u'A', u'N'), (u'D', u'N')]]\n"
     ]
    }
   ],
   "source": [
    "print [zip(x[0],x[1]) for x in sent]"
   ]
  },
  {
   "cell_type": "code",
   "execution_count": 8,
   "metadata": {
    "collapsed": false
   },
   "outputs": [
    {
     "name": "stdout",
     "output_type": "stream",
     "text": [
      "[u'DT', u'NN', u'VBZ', u'NN']\n",
      "[u'MY', u'NAME', u'IS', u'ADITI']\n",
      "{u'ADITI': u'NN', u'IS': u'VBZ', u'MY': u'DT', u'NAME': u'NN'}\n"
     ]
    }
   ],
   "source": [
    "tag=[x[1] for x in sent]\n",
    "wrds=[x[0] for x in sent]\n",
    "print tag\n",
    "print wrds\n",
    "pos={}\n",
    "for w,t in zip(wrds,tag):\n",
    "    pos[w]=t\n",
    "print pos"
   ]
  },
  {
   "cell_type": "code",
   "execution_count": null,
   "metadata": {
    "collapsed": true
   },
   "outputs": [],
   "source": []
  }
 ],
 "metadata": {
  "kernelspec": {
   "display_name": "Python 2",
   "language": "python",
   "name": "python2"
  },
  "language_info": {
   "codemirror_mode": {
    "name": "ipython",
    "version": 2
   },
   "file_extension": ".py",
   "mimetype": "text/x-python",
   "name": "python",
   "nbconvert_exporter": "python",
   "pygments_lexer": "ipython2",
   "version": "2.7.9"
  }
 },
 "nbformat": 4,
 "nbformat_minor": 0
}
